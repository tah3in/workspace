{
 "cells": [
  {
   "cell_type": "code",
   "execution_count": 6,
   "metadata": {},
   "outputs": [
    {
     "name": "stderr",
     "output_type": "stream",
     "text": [
      "C:\\Users\\Murix\\AppData\\Local\\Temp\\ipykernel_3460\\4083168293.py:5: DeprecationWarning: executable_path has been deprecated, please pass in a Service object\n",
      "  driver = webdriver.Chrome('/path/to/chromedriver')\n"
     ]
    }
   ],
   "source": [
    "from selenium import webdriver\n",
    "import time\n",
    "\n",
    "# ایجاد یک instance از مرورگر Chrome\n",
    "driver = webdriver.Chrome('/path/to/chromedriver')\n",
    "\n",
    "# باز کردن صفحه اصلی اینستاگرام\n",
    "driver.get('https://www.instagram.com/')\n",
    "\n",
    "time.sleep(10)\n",
    "\n",
    "username_input = driver.find_element_by_name('tah3in')\n",
    "password_input = driver.find_element_by_name('???52!v!03TaFa52???')\n",
    "login_button = driver.find_element_by_xpath('//button[@type=\"submit\"]')\n"
   ]
  }
 ],
 "metadata": {
  "kernelspec": {
   "display_name": "Python 3",
   "language": "python",
   "name": "python3"
  },
  "language_info": {
   "codemirror_mode": {
    "name": "ipython",
    "version": 3
   },
   "file_extension": ".py",
   "mimetype": "text/x-python",
   "name": "python",
   "nbconvert_exporter": "python",
   "pygments_lexer": "ipython3",
   "version": "3.11.2"
  },
  "orig_nbformat": 4
 },
 "nbformat": 4,
 "nbformat_minor": 2
}
